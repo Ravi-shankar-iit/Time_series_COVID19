{
 "cells": [
  {
   "cell_type": "markdown",
   "id": "e0144716-07bd-4915-a722-8f7e596f1b64",
   "metadata": {},
   "source": [
    "## Step 1: Importing Necessary Libraries"
   ]
  },
  {
   "cell_type": "code",
   "execution_count": 2,
   "id": "e4878854-2b15-4f99-9314-c33a6ab2751f",
   "metadata": {},
   "outputs": [
    {
     "data": {
      "text/html": [
       "        <script type=\"text/javascript\">\n",
       "        window.PlotlyConfig = {MathJaxConfig: 'local'};\n",
       "        if (window.MathJax && window.MathJax.Hub && window.MathJax.Hub.Config) {window.MathJax.Hub.Config({SVG: {font: \"STIX-Web\"}});}\n",
       "        if (typeof require !== 'undefined') {\n",
       "        require.undef(\"plotly\");\n",
       "        requirejs.config({\n",
       "            paths: {\n",
       "                'plotly': ['https://cdn.plot.ly/plotly-2.34.0.min']\n",
       "            }\n",
       "        });\n",
       "        require(['plotly'], function(Plotly) {\n",
       "            window._Plotly = Plotly;\n",
       "        });\n",
       "        }\n",
       "        </script>\n",
       "        "
      ]
     },
     "metadata": {},
     "output_type": "display_data"
    }
   ],
   "source": [
    "# Data analysis and Manipulation \n",
    "import plotly.graph_objs as go \n",
    "import plotly.io as pio \n",
    "import plotly.express as px \n",
    "import pandas as pd \n",
    "\n",
    "# Data Visualization \n",
    "import matplotlib.pyplot as plt \n",
    "\n",
    "# Importing Plotly \n",
    "import plotly.offline as py \n",
    "py.init_notebook_mode(connected=True) \n",
    "\n",
    "# Initializing Plotly \n",
    "pio.renderers.default = 'colab'\n"
   ]
  },
  {
   "cell_type": "code",
   "execution_count": 6,
   "id": "3f15412f-1939-44e4-83cf-4470c6c222f5",
   "metadata": {},
   "outputs": [
    {
     "data": {
      "text/html": [
       "<div>\n",
       "<style scoped>\n",
       "    .dataframe tbody tr th:only-of-type {\n",
       "        vertical-align: middle;\n",
       "    }\n",
       "\n",
       "    .dataframe tbody tr th {\n",
       "        vertical-align: top;\n",
       "    }\n",
       "\n",
       "    .dataframe thead th {\n",
       "        text-align: right;\n",
       "    }\n",
       "</style>\n",
       "<table border=\"1\" class=\"dataframe\">\n",
       "  <thead>\n",
       "    <tr style=\"text-align: right;\">\n",
       "      <th></th>\n",
       "      <th>Sno</th>\n",
       "      <th>Date</th>\n",
       "      <th>Province/State</th>\n",
       "      <th>Country</th>\n",
       "      <th>Last Update</th>\n",
       "      <th>Confirmed</th>\n",
       "      <th>Deaths</th>\n",
       "      <th>Recovered</th>\n",
       "    </tr>\n",
       "  </thead>\n",
       "  <tbody>\n",
       "    <tr>\n",
       "      <th>0</th>\n",
       "      <td>1</td>\n",
       "      <td>1/22/2020 12:00</td>\n",
       "      <td>Anhui</td>\n",
       "      <td>China</td>\n",
       "      <td>1/22/2020 12:00</td>\n",
       "      <td>1</td>\n",
       "      <td>0</td>\n",
       "      <td>0</td>\n",
       "    </tr>\n",
       "    <tr>\n",
       "      <th>1</th>\n",
       "      <td>2</td>\n",
       "      <td>1/22/2020 12:00</td>\n",
       "      <td>Beijing</td>\n",
       "      <td>China</td>\n",
       "      <td>1/22/2020 12:00</td>\n",
       "      <td>14</td>\n",
       "      <td>0</td>\n",
       "      <td>0</td>\n",
       "    </tr>\n",
       "    <tr>\n",
       "      <th>2</th>\n",
       "      <td>3</td>\n",
       "      <td>1/22/2020 12:00</td>\n",
       "      <td>Chongqing</td>\n",
       "      <td>China</td>\n",
       "      <td>1/22/2020 12:00</td>\n",
       "      <td>6</td>\n",
       "      <td>0</td>\n",
       "      <td>0</td>\n",
       "    </tr>\n",
       "    <tr>\n",
       "      <th>3</th>\n",
       "      <td>4</td>\n",
       "      <td>1/22/2020 12:00</td>\n",
       "      <td>Fujian</td>\n",
       "      <td>China</td>\n",
       "      <td>1/22/2020 12:00</td>\n",
       "      <td>1</td>\n",
       "      <td>0</td>\n",
       "      <td>0</td>\n",
       "    </tr>\n",
       "    <tr>\n",
       "      <th>4</th>\n",
       "      <td>5</td>\n",
       "      <td>1/22/2020 12:00</td>\n",
       "      <td>Gansu</td>\n",
       "      <td>China</td>\n",
       "      <td>1/22/2020 12:00</td>\n",
       "      <td>0</td>\n",
       "      <td>0</td>\n",
       "      <td>0</td>\n",
       "    </tr>\n",
       "  </tbody>\n",
       "</table>\n",
       "</div>"
      ],
      "text/plain": [
       "   Sno             Date Province/State Country      Last Update  Confirmed  \\\n",
       "0    1  1/22/2020 12:00          Anhui   China  1/22/2020 12:00          1   \n",
       "1    2  1/22/2020 12:00        Beijing   China  1/22/2020 12:00         14   \n",
       "2    3  1/22/2020 12:00      Chongqing   China  1/22/2020 12:00          6   \n",
       "3    4  1/22/2020 12:00         Fujian   China  1/22/2020 12:00          1   \n",
       "4    5  1/22/2020 12:00          Gansu   China  1/22/2020 12:00          0   \n",
       "\n",
       "   Deaths  Recovered  \n",
       "0       0          0  \n",
       "1       0          0  \n",
       "2       0          0  \n",
       "3       0          0  \n",
       "4       0          0  "
      ]
     },
     "execution_count": 6,
     "metadata": {},
     "output_type": "execute_result"
    }
   ],
   "source": [
    "# Importing Dataset1 \n",
    "dataset1 = pd.read_csv(\"D:\\\\3rd Semester M tech\\\\Python Projects\\\\Project_2\\\\2019_nCoV_data.csv\") \n",
    "dataset1.head() # returns first 5 rows \n"
   ]
  },
  {
   "cell_type": "code",
   "execution_count": 7,
   "id": "b6e23700-b0df-4578-8288-5cee44f06273",
   "metadata": {},
   "outputs": [
    {
     "name": "stdout",
     "output_type": "stream",
     "text": [
      "(24709, 8)\n",
      "197672\n"
     ]
    }
   ],
   "source": [
    "# Returns tuple of shape (Rows, columns) \n",
    "print(dataset1.shape) \n",
    "\n",
    "# Returns size of dataframe \n",
    "print(dataset1.size) \n"
   ]
  },
  {
   "cell_type": "code",
   "execution_count": 8,
   "id": "724ddd9d-f8f1-4a2b-9d4f-710d58d41578",
   "metadata": {},
   "outputs": [
    {
     "name": "stdout",
     "output_type": "stream",
     "text": [
      "<class 'pandas.core.frame.DataFrame'>\n",
      "RangeIndex: 24709 entries, 0 to 24708\n",
      "Data columns (total 8 columns):\n",
      " #   Column          Non-Null Count  Dtype \n",
      "---  ------          --------------  ----- \n",
      " 0   Sno             24709 non-null  int64 \n",
      " 1   Date            24709 non-null  object\n",
      " 2   Province/State  20627 non-null  object\n",
      " 3   Country         24709 non-null  object\n",
      " 4   Last Update     24709 non-null  object\n",
      " 5   Confirmed       24709 non-null  int64 \n",
      " 6   Deaths          24709 non-null  int64 \n",
      " 7   Recovered       24709 non-null  int64 \n",
      "dtypes: int64(4), object(4)\n",
      "memory usage: 1.5+ MB\n"
     ]
    }
   ],
   "source": [
    "# Information about Dataset1 \n",
    "# return concise summary of dataframe \n",
    "dataset1.info() \n"
   ]
  },
  {
   "cell_type": "code",
   "execution_count": 10,
   "id": "c8c8b15c-4bbe-4287-831c-c096d7785386",
   "metadata": {},
   "outputs": [
    {
     "ename": "SyntaxError",
     "evalue": "unterminated string literal (detected at line 2) (1852918364.py, line 2)",
     "output_type": "error",
     "traceback": [
      "\u001b[1;36m  Cell \u001b[1;32mIn[10], line 2\u001b[1;36m\u001b[0m\n\u001b[1;33m    dataset2 = pd.read_xlsx(\"D:\\\\3rd Semester M tech\\\\Python Projects\\\\Project_2\\\\time_series_covid19_confirmed.xlsx)\u001b[0m\n\u001b[1;37m                            ^\u001b[0m\n\u001b[1;31mSyntaxError\u001b[0m\u001b[1;31m:\u001b[0m unterminated string literal (detected at line 2)\n"
     ]
    }
   ],
   "source": [
    "# Importing Dataset2 \n",
    "dataset2 = pd.read_xlsx(\"D:\\\\3rd Semester M tech\\\\Python Projects\\\\Project_2\\\\time_series_covid19_confirmed.xlsx) \n",
    "dataset2.head() # return first 5 rows of dataset2 \n"
   ]
  },
  {
   "cell_type": "code",
   "execution_count": null,
   "id": "4cfcc78e-4838-4e9e-b902-2fa3c02a3b30",
   "metadata": {},
   "outputs": [],
   "source": []
  }
 ],
 "metadata": {
  "kernelspec": {
   "display_name": "Python 3 (ipykernel)",
   "language": "python",
   "name": "python3"
  },
  "language_info": {
   "codemirror_mode": {
    "name": "ipython",
    "version": 3
   },
   "file_extension": ".py",
   "mimetype": "text/x-python",
   "name": "python",
   "nbconvert_exporter": "python",
   "pygments_lexer": "ipython3",
   "version": "3.12.4"
  }
 },
 "nbformat": 4,
 "nbformat_minor": 5
}
